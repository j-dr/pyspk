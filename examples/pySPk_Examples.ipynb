{
 "cells": [
  {
   "cell_type": "markdown",
   "id": "f7df2cea",
   "metadata": {},
   "source": [
    "# py-SP(k) - Examples\n",
    "\n",
    "Herer we give a few of examples of how some of the functions contained with py-SP(K) can be used to predict the suppression of the total matter power spectrum due to baryonic physics. For a detailed description of the model and how it was developed see the original paper in XXX.\n",
    "\n",
    "First let us import the necessary module. For this tutorial you will need to have the following modules installed:\n",
    "\n",
    "- [numpy](https://numpy.org/)\n",
    "- [pandas](https://pandas.pydata.org/)\n",
    "- [matplotlib](https://matplotlib.org/stable/index.html)\n",
    "- [cycler](https://pypi.org/project/cycler/)\n",
    "- [pyspk](https://github.com/jemme07/pyspk)"
   ]
  },
  {
   "cell_type": "code",
   "execution_count": 1,
   "id": "9ad7b0de",
   "metadata": {},
   "outputs": [],
   "source": [
    "import numpy as np\n",
    "import pandas as pd\n",
    "import matplotlib.pyplot as plt\n",
    "from cycler import cycler\n",
    "import pyspk.model as spk"
   ]
  },
  {
   "cell_type": "markdown",
   "id": "92b07aaa",
   "metadata": {},
   "source": [
    "## Example 1: Using a power-law fit to the $f_b$ - $M_\\mathrm{halo}$ relation\n",
    "\n",
    "First, we will provide pyspk with the power-law parameters fitted to the fiducial BAHAMAS simulations ([McCarthy et al. 2017](https://academic.oup.com/mnras/article/465/3/2936/2417021)) at redshift $z=0.125$. We will use a spherical-overdensity of 200. The functional form used is:\n",
    "\n",
    "$$f_b / (\\Omega_b/\\Omega_m) = a \\left(\\frac{M_{200c}}{10^{13.5}\\mathrm{M}_\\odot} \\right)^{b}$$\n",
    "\n",
    "Note that the power-law has been normalised at $M_\\mathrm{halo} = 10^{13.5} \\mathrm{M}_\\odot$."
   ]
  },
  {
   "cell_type": "code",
   "execution_count": 2,
   "id": "3dcaf98b",
   "metadata": {},
   "outputs": [
    {
     "name": "stdout",
     "output_type": "stream",
     "text": [
      "\u001b[36m [py-spk:] Using power-law fit for fb - M_halo at z=0.125, normalised at M_halo = 3.16e+13 [M_sun] \u001b[0m\n"
     ]
    },
    {
     "name": "stderr",
     "output_type": "stream",
     "text": [
      "\u001b[33m \n",
      " Warning: Scales with k_max > k_ny = 8 [h/Mpc] may not be accurately reproduced by the model. \u001b[0m\n"
     ]
    }
   ],
   "source": [
    "z = 0.125\n",
    "fb_a = 0.4\n",
    "fb_pow = 0.3\n",
    "fb_norm = 10 ** 13.5\n",
    "\n",
    "k, sup = spk.sup_model(SO=200, z=z, fb_a=fb_a, fb_pow=fb_pow, fb_norm=fb_norm, k_max=10)"
   ]
  },
  {
   "cell_type": "markdown",
   "id": "b24c7d15",
   "metadata": {},
   "source": [
    "Now we can have a look at what the supression looks like at this redshift."
   ]
  },
  {
   "cell_type": "code",
   "execution_count": 3,
   "id": "b67b78b1",
   "metadata": {},
   "outputs": [
    {
     "data": {
      "image/png": "[encoded data removed]",
      "text/plain": [
       "<Figure size 432x288 with 1 Axes>"
      ]
     },
     "metadata": {
      "needs_background": "light"
     },
     "output_type": "display_data"
    }
   ],
   "source": [
    "plt.figure()\n",
    "plt.plot(k, sup)\n",
    "plt.xscale('log')\n",
    "\n",
    "plt.axhline(1, c='k')\n",
    "plt.xlabel('$k$ [$h$ Mpc$^{-1}$]');\n",
    "plt.ylabel('$P_\\mathrm{hydro}(k)/P_\\mathrm{DM}(k)$');\n",
    "plt.xlim(0.1, 10);"
   ]
  },
  {
   "cell_type": "markdown",
   "id": "674bc733",
   "metadata": {},
   "source": [
    "## Example 2: Getting the optimal mass\n",
    "\n",
    "We can also use py-SP(k) to obtain the optimal mass as a function of scale and redshift, as defined in Salcido et al (2022). \n",
    "\n",
    "For this example we use a spherical-overdensity of 200. We will provide the `spk.optimal_mass()` function with an array of scales at which we want to compute the optimal mass.\n",
    "\n",
    "We will compute the optimal mass at redshift $z=1$.\n"
   ]
  },
  {
   "cell_type": "code",
   "execution_count": 4,
   "id": "c5c1d2be",
   "metadata": {},
   "outputs": [
    {
     "name": "stderr",
     "output_type": "stream",
     "text": [
      "\u001b[33m \n",
      " Warning: Scales with k_max > k_ny = 8 [h/Mpc] may not be accurately reproduced by the model. \u001b[0m\n"
     ]
    }
   ],
   "source": [
    "k = np.logspace(-1, 1, 100)\n",
    "z = 1\n",
    "om = spk.optimal_mass(SO=200, z=z, k=k)"
   ]
  },
  {
   "cell_type": "markdown",
   "id": "b8b40ff4",
   "metadata": {},
   "source": [
    "Now we can plot the optimal mass as function of scale at the specified redshift."
   ]
  },
  {
   "cell_type": "code",
   "execution_count": 5,
   "id": "ca20b167",
   "metadata": {},
   "outputs": [
    {
     "data": {
      "image/png": "[encoded data removed]",
      "text/plain": [
       "<Figure size 432x288 with 1 Axes>"
      ]
     },
     "metadata": {
      "needs_background": "light"
     },
     "output_type": "display_data"
    }
   ],
   "source": [
    "plt.figure()\n",
    "plt.plot(k, om)\n",
    "plt.xscale('log')\n",
    "plt.yscale('log')\n",
    "\n",
    "plt.xlabel('$k$ [$h$ Mpc$^{-1}$]');\n",
    "plt.ylabel('$\\\\hat{M}_{k,200\\mathrm{c}}\\,\\, [\\mathrm{M}_\\odot]$');\n",
    "plt.xlim(0.1, 10);\n",
    "plt.ylim(1e12, 2e14);"
   ]
  },
  {
   "cell_type": "markdown",
   "id": "3c67b374",
   "metadata": {},
   "source": [
    "## Example 3: Using a binned data for the $f_b$ - $M_\\mathrm{halo}$ relation\n",
    "\n",
    "In this example we will use the baryon fraction binned in bins of halo mass from the BAHAMAS simulations ([McCarthy et al. 2017](https://academic.oup.com/mnras/article/465/3/2936/2417021)).\n",
    "\n",
    "First we will load and take a look a the data. \n",
    "\n",
    "The columns are as follow: Redshift, Halo mass, Baryon fraction."
   ]
  },
  {
   "cell_type": "code",
   "execution_count": 8,
   "id": "d916b3fd",
   "metadata": {},
   "outputs": [
    {
     "data": {
      "text/html": [
       "<div>\n",
       "<style scoped>\n",
       "    .dataframe tbody tr th:only-of-type {\n",
       "        vertical-align: middle;\n",
       "    }\n",
       "\n",
       "    .dataframe tbody tr th {\n",
       "        vertical-align: top;\n",
       "    }\n",
       "\n",
       "    .dataframe thead th {\n",
       "        text-align: right;\n",
       "    }\n",
       "</style>\n",
       "<table border=\"1\" class=\"dataframe\">\n",
       "  <thead>\n",
       "    <tr style=\"text-align: right;\">\n",
       "      <th></th>\n",
       "      <th>z</th>\n",
       "      <th>M200</th>\n",
       "      <th>f_b</th>\n",
       "    </tr>\n",
       "  </thead>\n",
       "  <tbody>\n",
       "    <tr>\n",
       "      <th>0</th>\n",
       "      <td>0.12</td>\n",
       "      <td>1.000000e+11</td>\n",
       "      <td>0.687368</td>\n",
       "    </tr>\n",
       "    <tr>\n",
       "      <th>1</th>\n",
       "      <td>0.12</td>\n",
       "      <td>1.258925e+11</td>\n",
       "      <td>0.695632</td>\n",
       "    </tr>\n",
       "    <tr>\n",
       "      <th>2</th>\n",
       "      <td>0.12</td>\n",
       "      <td>1.584893e+11</td>\n",
       "      <td>0.703069</td>\n",
       "    </tr>\n",
       "    <tr>\n",
       "      <th>3</th>\n",
       "      <td>0.12</td>\n",
       "      <td>1.995262e+11</td>\n",
       "      <td>0.741934</td>\n",
       "    </tr>\n",
       "    <tr>\n",
       "      <th>4</th>\n",
       "      <td>0.12</td>\n",
       "      <td>2.511886e+11</td>\n",
       "      <td>0.768164</td>\n",
       "    </tr>\n",
       "    <tr>\n",
       "      <th>...</th>\n",
       "      <td>...</td>\n",
       "      <td>...</td>\n",
       "      <td>...</td>\n",
       "    </tr>\n",
       "    <tr>\n",
       "      <th>516</th>\n",
       "      <td>3.00</td>\n",
       "      <td>2.511886e+13</td>\n",
       "      <td>0.753568</td>\n",
       "    </tr>\n",
       "    <tr>\n",
       "      <th>517</th>\n",
       "      <td>3.00</td>\n",
       "      <td>3.162278e+13</td>\n",
       "      <td>0.793468</td>\n",
       "    </tr>\n",
       "    <tr>\n",
       "      <th>518</th>\n",
       "      <td>3.00</td>\n",
       "      <td>3.981072e+13</td>\n",
       "      <td>0.753835</td>\n",
       "    </tr>\n",
       "    <tr>\n",
       "      <th>519</th>\n",
       "      <td>3.00</td>\n",
       "      <td>5.011872e+13</td>\n",
       "      <td>0.843562</td>\n",
       "    </tr>\n",
       "    <tr>\n",
       "      <th>520</th>\n",
       "      <td>3.00</td>\n",
       "      <td>1.000000e+14</td>\n",
       "      <td>0.869990</td>\n",
       "    </tr>\n",
       "  </tbody>\n",
       "</table>\n",
       "<p>521 rows × 3 columns</p>\n",
       "</div>"
      ],
      "text/plain": [
       "        z          M200       f_b\n",
       "0    0.12  1.000000e+11  0.687368\n",
       "1    0.12  1.258925e+11  0.695632\n",
       "2    0.12  1.584893e+11  0.703069\n",
       "3    0.12  1.995262e+11  0.741934\n",
       "4    0.12  2.511886e+11  0.768164\n",
       "..    ...           ...       ...\n",
       "516  3.00  2.511886e+13  0.753568\n",
       "517  3.00  3.162278e+13  0.793468\n",
       "518  3.00  3.981072e+13  0.753835\n",
       "519  3.00  5.011872e+13  0.843562\n",
       "520  3.00  1.000000e+14  0.869990\n",
       "\n",
       "[521 rows x 3 columns]"
      ]
     },
     "execution_count": 8,
     "metadata": {},
     "output_type": "execute_result"
    }
   ],
   "source": [
    "df = pd.read_csv('BAHAMAS_fb_M200.csv')\n",
    "df"
   ]
  },
  {
   "cell_type": "markdown",
   "id": "0a4a71ed",
   "metadata": {},
   "source": [
    "We can use pandas to group the data by redshift as follows:"
   ]
  },
  {
   "cell_type": "code",
   "execution_count": 9,
   "id": "bd95002d",
   "metadata": {},
   "outputs": [],
   "source": [
    "z_grouped = df.groupby('z')"
   ]
  },
  {
   "cell_type": "markdown",
   "id": "2068b978",
   "metadata": {},
   "source": [
    "Now we can compute and plot the suppression of the total matter power spectrum for each redshift using py-SP(k):"
   ]
  },
  {
   "cell_type": "code",
   "execution_count": 16,
   "id": "4be7d625",
   "metadata": {},
   "outputs": [
    {
     "data": {
      "image/png": "[encoded data removed]",
      "text/plain": [
       "<Figure size 432x288 with 1 Axes>"
      ]
     },
     "metadata": {
      "needs_background": "light"
     },
     "output_type": "display_data"
    }
   ],
   "source": [
    "color = plt.cm.viridis(np.linspace(0, 1, len(z_grouped.groups.keys())))\n",
    "custom_cycler = iter(cycler(color=color))\n",
    "\n",
    "for z, group in z_grouped:\n",
    "    c = next(custom_cycler)['color']\n",
    "    k, sup = spk.sup_model(SO=200, z=z, M_halo=group.M200, fb=group.f_b, verbose=False)\n",
    "    plt.plot(k, sup, label='$z=%.2f$' % z, c=c)\n",
    "\n",
    "plt.axhline(1, c='k')\n",
    "plt.xlim(1e-1, 8)\n",
    "plt.ylim(.75, 1.05)\n",
    "plt.legend(loc=3, ncol=3, fontsize=8, frameon=False)\n",
    "plt.xscale('log')\n",
    "plt.xlabel('$k$  $[h/\\\\mathrm{Mpc}]$');\n",
    "plt.ylabel('$P_\\\\mathrm{hydro}(k)/P_\\\\mathrm{DM}(k)$');"
   ]
  },
  {
   "cell_type": "markdown",
   "id": "c2930c3f",
   "metadata": {},
   "source": [
    "## Help\n",
    "\n",
    "Further information can be found by using python help:"
   ]
  },
  {
   "cell_type": "code",
   "execution_count": 17,
   "id": "0faa6b04",
   "metadata": {},
   "outputs": [
    {
     "name": "stdout",
     "output_type": "stream",
     "text": [
      "Help on module pyspk.model in pyspk:\n",
      "\n",
      "NAME\n",
      "    pyspk.model\n",
      "\n",
      "FUNCTIONS\n",
      "    optimal_mass(SO, z, k)\n",
      "        Optimal mass function as a function of scale and redshift for a specific \n",
      "        spherical over-density. Defined in eq.(2) in Salcido et al. (2022).\n",
      "        \n",
      "        Parameters\n",
      "        ----------\n",
      "        SO : int\n",
      "            spherical over-density. (Only accepts 200 or 500)\n",
      "        z : float\n",
      "            redshift z\n",
      "        k : array of float\n",
      "            co-moving wavenumber in units [h/Mpc]\n",
      "        \n",
      "        Returns\n",
      "        -------\n",
      "        output: array of float\n",
      "            optimal mass in M_sun units\n",
      "    \n",
      "    sup_model(SO, z, fb_a=None, fb_pow=None, fb_norm=1, M_halo=None, fb=None, k_min=0.1, k_max=8, n=100, verbose=True)\n",
      "        Returns the suppression of the total matter power spectrum as a function of scale 'k' using the SP(k) model.\n",
      "        Automatically selects the required optimal mass as a function of scale and redshift. Requires the baryon \n",
      "        fraction - halo mass relation, either by specifying power-law fitting parameters, or non-parametric \n",
      "        proving arrays with fb and M_halo at a specific redshift. If a non-parametric relation is given, an \n",
      "        interpolator is used to compute fb at the optimal mass. \n",
      "        \n",
      "        Parameters\n",
      "        ----------\n",
      "        SO : int\n",
      "            spherical over-density. (Only accepts 200 or 500)\n",
      "        z : float\n",
      "            redshift z\n",
      "        fb_a : float, optional\n",
      "            power law constant\n",
      "        fb_pow : float, option\n",
      "            power law exponent\n",
      "        fb_norm : float, optional, default 1\n",
      "            power law normalisation. \n",
      "        fb : array of float, optional\n",
      "            array containing the (binned) baryon fraction normalised by the universal baryon fraction: \n",
      "            f_b / (Omega_b / Omega_m) for the fb - M-halo relation.\n",
      "        M_halo : array of float, optional\n",
      "            array containing the (binned) halo mass for the fb - M-halo relation in M_sun units\n",
      "        k_min : float, default 0.1\n",
      "            minimum co-moving wavenumber in units [h/Mpc]\n",
      "        k_max : float, default 8, max 12\n",
      "            maximum co-moving wavenumber in units [h/Mpc]. Default is set to the Nyquist frequency of the Antilles\n",
      "            simulations (see Salcido et al. 2022). \n",
      "        n : int, default 100\n",
      "            number of equally spaced co-moving wavenumber in log-spaced between k_min and k_max.\n",
      "        verbose : boolean, default True\n",
      "            Run in verbose mode\n",
      "        Returns\n",
      "        -------\n",
      "        k: array of float\n",
      "            array with the co-moving wavenumber in units [h/Mpc]\n",
      "        sup: array of float\n",
      "            array with the suppression of the total matter power spectrum as a function of scale\n",
      "        \n",
      "        Notes\n",
      "        ----------\n",
      "        The maximum co-moving wavenumber in units [h/Mpc] is set to the Nyquist frequency of the Antilles simulations \n",
      "        (see Salcido et al. 2022). Although SP(k) was fitted up to k = 12 [h/Mpc], we caution the user that setting \n",
      "        𝑘 > 𝑘Ny (8 [h/Mpc]) might not be representative of the true uncertainties in the data.\n",
      "\n",
      "DATA\n",
      "    __warningregistry__ = {'version': 103, ('\\x1b[33m \\n Warning: Scales w...\n",
      "\n",
      "FILE\n",
      "    /Users/jaimesalcido/miniforge3/lib/python3.9/site-packages/pyspk/model.py\n",
      "\n",
      "\n"
     ]
    }
   ],
   "source": [
    "help(spk)"
   ]
  },
  {
   "cell_type": "code",
   "execution_count": null,
   "id": "b94ca353",
   "metadata": {},
   "outputs": [],
   "source": []
  }
 ],
 "metadata": {
  "kernelspec": {
   "display_name": "Python 3 (ipykernel)",
   "language": "python",
   "name": "python3"
  },
  "language_info": {
   "codemirror_mode": {
    "name": "ipython",
    "version": 3
   },
   "file_extension": ".py",
   "mimetype": "text/x-python",
   "name": "python",
   "nbconvert_exporter": "python",
   "pygments_lexer": "ipython3",
   "version": "3.9.10"
  }
 },
 "nbformat": 4,
 "nbformat_minor": 5
}
