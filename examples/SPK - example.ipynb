{
 "cells": [
  {
   "cell_type": "code",
   "execution_count": 1,
   "id": "9ad7b0de",
   "metadata": {},
   "outputs": [],
   "source": [
    "import pandas as pd\n",
    "import matplotlib.pyplot as plt\n",
    "from cycler import cycler\n",
    "import pyspk.model as spk"
   ]
  },
  {
   "cell_type": "code",
   "execution_count": 2,
   "id": "3dcaf98b",
   "metadata": {},
   "outputs": [
    {
     "name": "stdout",
     "output_type": "stream",
     "text": [
      "\u001b[33m \n",
      "              Using power-law fit for the fb - M_halo at z=0.12\n",
      "              \u001b[0m\n"
     ]
    }
   ],
   "source": [
    "z = 0.125\n",
    "fb_a = 8.44e-05\n",
    "fb_pow = 0.275\n",
    "k, sup = spk.sup_model(SO=200, z=z, fb_a=fb_a, fb_pow=fb_pow, k_max=10)"
   ]
  },
  {
   "cell_type": "code",
   "execution_count": 3,
   "id": "b67b78b1",
   "metadata": {},
   "outputs": [
    {
     "data": {
      "image/png": "[encoded data removed]",
      "text/plain": [
       "<Figure size 432x288 with 1 Axes>"
      ]
     },
     "metadata": {
      "needs_background": "light"
     },
     "output_type": "display_data"
    }
   ],
   "source": [
    "plt.figure()\n",
    "plt.plot(k, sup)\n",
    "plt.xscale('log')\n",
    "\n",
    "plt.axhline(1, c='k')\n",
    "plt.xlabel('$k$ [$h$ Mpc$^{-1}$]');\n",
    "plt.ylabel('$P_\\mathrm{hydro}(k)/P_\\mathrm{DM}(k)$');\n",
    "plt.xlim(0.1, 10);"
   ]
  },
  {
   "cell_type": "code",
   "execution_count": 4,
   "id": "c5c1d2be",
   "metadata": {},
   "outputs": [],
   "source": [
    "om = spk.optimal_mass(200, 0.1, k)"
   ]
  },
  {
   "cell_type": "code",
   "execution_count": 5,
   "id": "ca20b167",
   "metadata": {},
   "outputs": [
    {
     "data": {
      "image/png": "[encoded data removed]",
      "text/plain": [
       "<Figure size 432x288 with 1 Axes>"
      ]
     },
     "metadata": {
      "needs_background": "light"
     },
     "output_type": "display_data"
    }
   ],
   "source": [
    "plt.figure()\n",
    "plt.plot(k, om)\n",
    "plt.xscale('log')\n",
    "plt.yscale('log')\n",
    "\n",
    "plt.xlabel('$k$ [$h$ Mpc$^{-1}$]');\n",
    "plt.ylabel('$\\\\hat{M}_{k,200\\mathrm{c}}\\,\\, [\\mathrm{M}_\\odot]$');\n",
    "plt.xlim(0.1, 10);\n",
    "plt.ylim(1e12, 2e14);"
   ]
  },
  {
   "cell_type": "code",
   "execution_count": 6,
   "id": "bd95002d",
   "metadata": {},
   "outputs": [
    {
     "name": "stdout",
     "output_type": "stream",
     "text": [
      "Help on module pyspk.model in pyspk:\n",
      "\n",
      "NAME\n",
      "    pyspk.model\n",
      "\n",
      "FUNCTIONS\n",
      "    optimal_mass(SO, z, k)\n",
      "        Optimal mass function as a function of scale and redshift for a specific \n",
      "        spherical over-density. Defined in eq.(2) in Salcido et al. (2022).\n",
      "        \n",
      "        Parameters\n",
      "        ----------\n",
      "        SO : int\n",
      "            spherical over-density. (Only accepts 200 or 500)\n",
      "        z : float\n",
      "            redshift z\n",
      "        k : array of float\n",
      "            co-moving wavenumber in units [k/Mpc]\n",
      "        \n",
      "        Returns\n",
      "        -------\n",
      "        output: array of float\n",
      "            optimal mass in M_sun units\n",
      "    \n",
      "    sup_model(SO, z, fb_a=None, fb_pow=None, fb_norm=1, M_halo=None, fb=None, k_min=0.1, k_max=8, n=100)\n",
      "        Returns the suppression of the total matter power spectrum as a function of scale 'k' using the SP(k) model.\n",
      "        Automatically selects the required optimal mass as a function of scale and redshift. Requires the baryon \n",
      "        fraction - halo mass relation, either by specifying power-law fitting parameters, or non-parametric \n",
      "        proving arrays with fb and M_halo at a specific redshift. If a non-parametric relation is given, an \n",
      "        interpolator is used to compute fb at the optimal mass. \n",
      "        \n",
      "        Parameters\n",
      "        ----------\n",
      "        SO : int\n",
      "            spherical over-density. (Only accepts 200 or 500)\n",
      "        z : float\n",
      "            redshift z\n",
      "        fb_a : float, optional\n",
      "            power law constant\n",
      "        fb_pow : float, option\n",
      "            power law exponent\n",
      "        fb_norm : float, optional, default 1\n",
      "            power law normalisation. \n",
      "        fb : array of float, optional\n",
      "            array containing the (binned) baryon fraction normalised by the universal baryon fraction: \n",
      "            f_b / (Omega_b / Omega_m) for the fb - M-halo relation.\n",
      "        M_halo : array of float, optional\n",
      "            array containing the (binned) halo mass for the fb - M-halo relation in M_sun units\n",
      "        k_min : float, default 0.1\n",
      "            minimum co-moving wavenumber in units [k/Mpc]\n",
      "        k_max : float, default 8, max 12\n",
      "            maximum co-moving wavenumber in units [k/Mpc]. Default is set to the Nyquist frequency of the Antilles\n",
      "            simulations (see Salcido et al. 2022). \n",
      "        n : int, default 100\n",
      "            number of equally spaced co-moving wavenumber in log-spaced between k_min and k_max.\n",
      "        Returns\n",
      "        -------\n",
      "        k: array of float\n",
      "            array with the co-moving wavenumber in units [k/Mpc]\n",
      "        sup: array of float\n",
      "            array with the suppression of the total matter power spectrum as a function of scale\n",
      "        \n",
      "        Notes\n",
      "        ----------\n",
      "        The maximum co-moving wavenumber in units [k/Mpc] is set to the Nyquist frequency of the Antilles simulations \n",
      "        (see Salcido et al. 2022). Although SP(k) was fitted up to k = 12 [k/Mpc], we caution the user that setting \n",
      "        𝑘 > 𝑘Ny (8 [k/Mpc]) might not be representative of the true uncertainties in the data.\n",
      "\n",
      "FILE\n",
      "    /Users/jaimesalcido/miniforge3/lib/python3.9/site-packages/pyspk/model.py\n",
      "\n",
      "\n"
     ]
    }
   ],
   "source": [
    "help(spk)"
   ]
  },
  {
   "cell_type": "code",
   "execution_count": null,
   "id": "b1e3d4f0",
   "metadata": {},
   "outputs": [],
   "source": []
  }
 ],
 "metadata": {
  "kernelspec": {
   "display_name": "Python 3 (ipykernel)",
   "language": "python",
   "name": "python3"
  },
  "language_info": {
   "codemirror_mode": {
    "name": "ipython",
    "version": 3
   },
   "file_extension": ".py",
   "mimetype": "text/x-python",
   "name": "python",
   "nbconvert_exporter": "python",
   "pygments_lexer": "ipython3",
   "version": "3.9.10"
  }
 },
 "nbformat": 4,
 "nbformat_minor": 5
}
